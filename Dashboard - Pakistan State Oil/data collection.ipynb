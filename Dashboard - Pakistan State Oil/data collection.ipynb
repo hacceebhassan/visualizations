{
 "cells": [
  {
   "cell_type": "code",
   "execution_count": 1,
   "metadata": {},
   "outputs": [],
   "source": [
    "f = open(\"data.txt\", \"r\")\n",
    "lines = f.readlines()"
   ]
  },
  {
   "cell_type": "code",
   "execution_count": 2,
   "metadata": {},
   "outputs": [
    {
     "name": "stdout",
     "output_type": "stream",
     "text": [
      "Collecting dates..\n",
      "Done!\n",
      "\n",
      "222\n"
     ]
    }
   ],
   "source": [
    "#get dates\n",
    "dates = []\n",
    "print('Collecting dates..')\n",
    "for line in lines:   \n",
    "    if 'Effective' in line:\n",
    "        split = line.split()\n",
    "        date = f'{split[2]} {split[3]}'\n",
    "#         print(date)\n",
    "        dates.append(date)\n",
    "    else:\n",
    "        pass\n",
    "print('Done!\\n')\n",
    "print(len(dates))"
   ]
  },
  {
   "cell_type": "code",
   "execution_count": 3,
   "metadata": {},
   "outputs": [],
   "source": [
    "products_data = []\n",
    "for line in lines:\n",
    "    if 'Effective' in line:\n",
    "        pass\n",
    "    elif 'Product' in line:\n",
    "        pass\n",
    "    else:\n",
    "        if len(line) > 2:\n",
    "#             print(line.split())\n",
    "            products_data.append(line.split())\n",
    "            "
   ]
  },
  {
   "cell_type": "code",
   "execution_count": 4,
   "metadata": {},
   "outputs": [
    {
     "data": {
      "text/plain": [
       "1505"
      ]
     },
     "execution_count": 4,
     "metadata": {},
     "output_type": "execute_result"
    }
   ],
   "source": [
    "len(products_data)"
   ]
  },
  {
   "cell_type": "code",
   "execution_count": 5,
   "metadata": {},
   "outputs": [],
   "source": [
    "product_names =[]\n",
    "product_price = []\n",
    "for product_data in products_data:\n",
    "#     print(len(product_data))\n",
    "    if len(product_data) == 4:\n",
    "#         print(product_data)\n",
    "        product_names.append(product_data[2])\n",
    "        product_price.append(product_data[3])\n",
    "        \n",
    "    elif len(product_data)==2:\n",
    "#         print(product_data)\n",
    "        product_names.append(product_data[0])\n",
    "        product_price.append(product_data[1])\n",
    "        \n",
    "    elif len(product_data)==3:\n",
    "#         print(product_data)\n",
    "        name = f'{product_data[0]} {product_data[1]}'\n",
    "        product_names.append(name)\n",
    "        product_price.append(product_data[2])"
   ]
  },
  {
   "cell_type": "code",
   "execution_count": 6,
   "metadata": {},
   "outputs": [
    {
     "data": {
      "text/plain": [
       "1505"
      ]
     },
     "execution_count": 6,
     "metadata": {},
     "output_type": "execute_result"
    }
   ],
   "source": [
    "len(product_names)"
   ]
  },
  {
   "cell_type": "code",
   "execution_count": 7,
   "metadata": {},
   "outputs": [
    {
     "data": {
      "text/plain": [
       "1505"
      ]
     },
     "execution_count": 7,
     "metadata": {},
     "output_type": "execute_result"
    }
   ],
   "source": [
    "len(product_price)"
   ]
  },
  {
   "cell_type": "code",
   "execution_count": 8,
   "metadata": {},
   "outputs": [],
   "source": [
    "def get_date(dates, index):\n",
    "    return dates[index]"
   ]
  },
  {
   "cell_type": "code",
   "execution_count": 9,
   "metadata": {},
   "outputs": [],
   "source": [
    "import pandas as pd\n",
    "\n",
    "df = pd.DataFrame(list(zip(product_names, product_price)), \n",
    "               columns =['Product Name', 'Price']) "
   ]
  },
  {
   "cell_type": "code",
   "execution_count": 10,
   "metadata": {},
   "outputs": [],
   "source": [
    "date_index = 0\n",
    "dates_updated =[]\n",
    "for index, row in df.iterrows():\n",
    "    product_name = row['Product Name']\n",
    "    date = get_date(dates, date_index)\n",
    "    dates_updated.append(date)\n",
    "    \n",
    "    if product_name == 'JP-1':\n",
    "        date_index = date_index+1\n",
    "    "
   ]
  },
  {
   "cell_type": "code",
   "execution_count": 11,
   "metadata": {},
   "outputs": [
    {
     "data": {
      "text/html": [
       "<div>\n",
       "<style scoped>\n",
       "    .dataframe tbody tr th:only-of-type {\n",
       "        vertical-align: middle;\n",
       "    }\n",
       "\n",
       "    .dataframe tbody tr th {\n",
       "        vertical-align: top;\n",
       "    }\n",
       "\n",
       "    .dataframe thead th {\n",
       "        text-align: right;\n",
       "    }\n",
       "</style>\n",
       "<table border=\"1\" class=\"dataframe\">\n",
       "  <thead>\n",
       "    <tr style=\"text-align: right;\">\n",
       "      <th></th>\n",
       "      <th>Product Name</th>\n",
       "      <th>Price</th>\n",
       "    </tr>\n",
       "    <tr>\n",
       "      <th>Date</th>\n",
       "      <th></th>\n",
       "      <th></th>\n",
       "    </tr>\n",
       "  </thead>\n",
       "  <tbody>\n",
       "    <tr>\n",
       "      <th>May 01,2020</th>\n",
       "      <td>E10 Gasoline</td>\n",
       "      <td>79.08</td>\n",
       "    </tr>\n",
       "    <tr>\n",
       "      <th>May 01,2020</th>\n",
       "      <td>Altron Premium</td>\n",
       "      <td>81.58</td>\n",
       "    </tr>\n",
       "    <tr>\n",
       "      <th>May 01,2020</th>\n",
       "      <td>Diesel</td>\n",
       "      <td>80.1</td>\n",
       "    </tr>\n",
       "    <tr>\n",
       "      <th>May 01,2020</th>\n",
       "      <td>LDO</td>\n",
       "      <td>47.51</td>\n",
       "    </tr>\n",
       "    <tr>\n",
       "      <th>May 01,2020</th>\n",
       "      <td>SKO</td>\n",
       "      <td>47.44</td>\n",
       "    </tr>\n",
       "    <tr>\n",
       "      <th>May 01,2020</th>\n",
       "      <td>JP-1</td>\n",
       "      <td>49.05</td>\n",
       "    </tr>\n",
       "    <tr>\n",
       "      <th>March 25,2020</th>\n",
       "      <td>E10 Gasoline</td>\n",
       "      <td>94.08</td>\n",
       "    </tr>\n",
       "    <tr>\n",
       "      <th>March 25,2020</th>\n",
       "      <td>Altron Premium</td>\n",
       "      <td>96.58</td>\n",
       "    </tr>\n",
       "    <tr>\n",
       "      <th>March 25,2020</th>\n",
       "      <td>Diesel</td>\n",
       "      <td>107.25</td>\n",
       "    </tr>\n",
       "    <tr>\n",
       "      <th>March 25,2020</th>\n",
       "      <td>LDO</td>\n",
       "      <td>62.51</td>\n",
       "    </tr>\n",
       "    <tr>\n",
       "      <th>March 25,2020</th>\n",
       "      <td>SKO</td>\n",
       "      <td>77.45</td>\n",
       "    </tr>\n",
       "    <tr>\n",
       "      <th>March 25,2020</th>\n",
       "      <td>JP-1</td>\n",
       "      <td>77.37</td>\n",
       "    </tr>\n",
       "    <tr>\n",
       "      <th>March 01,2020</th>\n",
       "      <td>E10 Gasoline</td>\n",
       "      <td>109.09</td>\n",
       "    </tr>\n",
       "    <tr>\n",
       "      <th>March 01,2020</th>\n",
       "      <td>Altron Premium</td>\n",
       "      <td>111.59</td>\n",
       "    </tr>\n",
       "    <tr>\n",
       "      <th>March 01,2020</th>\n",
       "      <td>Diesel</td>\n",
       "      <td>122.25</td>\n",
       "    </tr>\n",
       "    <tr>\n",
       "      <th>March 01,2020</th>\n",
       "      <td>LDO</td>\n",
       "      <td>77.51</td>\n",
       "    </tr>\n",
       "  </tbody>\n",
       "</table>\n",
       "</div>"
      ],
      "text/plain": [
       "                 Product Name   Price\n",
       "Date                                 \n",
       "May 01,2020      E10 Gasoline   79.08\n",
       "May 01,2020    Altron Premium   81.58\n",
       "May 01,2020            Diesel    80.1\n",
       "May 01,2020               LDO   47.51\n",
       "May 01,2020               SKO   47.44\n",
       "May 01,2020              JP-1   49.05\n",
       "March 25,2020    E10 Gasoline   94.08\n",
       "March 25,2020  Altron Premium   96.58\n",
       "March 25,2020          Diesel  107.25\n",
       "March 25,2020             LDO   62.51\n",
       "March 25,2020             SKO   77.45\n",
       "March 25,2020            JP-1   77.37\n",
       "March 01,2020    E10 Gasoline  109.09\n",
       "March 01,2020  Altron Premium  111.59\n",
       "March 01,2020          Diesel  122.25\n",
       "March 01,2020             LDO   77.51"
      ]
     },
     "execution_count": 11,
     "metadata": {},
     "output_type": "execute_result"
    }
   ],
   "source": [
    "\n",
    "\n",
    "df_updated = pd.DataFrame(list(zip(dates_updated,product_names, product_price)), \n",
    "               columns =['Date','Product Name', 'Price']) \n",
    "df_updated.set_index('Date', inplace=True)\n",
    "df_updated.head(16)"
   ]
  },
  {
   "cell_type": "code",
   "execution_count": 12,
   "metadata": {},
   "outputs": [],
   "source": [
    "df_updated.to_excel(\"clean_data.xlsx\")"
   ]
  },
  {
   "cell_type": "code",
   "execution_count": 13,
   "metadata": {},
   "outputs": [
    {
     "name": "stdout",
     "output_type": "stream",
     "text": [
      "May 05,2019\n",
      "September 01,2018\n",
      "January 01,2018\n"
     ]
    }
   ],
   "source": [
    "for index, row in df_updated.iterrows():\n",
    "    product_name = row['Product Name']\n",
    "    if product_name == 'E10 Gasoline':\n",
    "        if row['Price']=='--':\n",
    "            print(index)\n",
    "#         print(row['Price'])"
   ]
  }
 ],
 "metadata": {
  "kernelspec": {
   "display_name": "Python 3",
   "language": "python",
   "name": "python3"
  },
  "language_info": {
   "codemirror_mode": {
    "name": "ipython",
    "version": 3
   },
   "file_extension": ".py",
   "mimetype": "text/x-python",
   "name": "python",
   "nbconvert_exporter": "python",
   "pygments_lexer": "ipython3",
   "version": "3.6.9"
  }
 },
 "nbformat": 4,
 "nbformat_minor": 4
}
